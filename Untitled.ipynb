{
 "cells": [
  {
   "cell_type": "markdown",
   "id": "0ffd50fc-ccde-4065-aceb-95f9c0666db9",
   "metadata": {},
   "source": [
    "# firstlesson"
   ]
  },
  {
   "cell_type": "code",
   "execution_count": 2,
   "id": "88fb998d-1838-4e1a-9c5d-feff8a9ec2df",
   "metadata": {},
   "outputs": [
    {
     "name": "stdout",
     "output_type": "stream",
     "text": [
      "helloWorld\n"
     ]
    }
   ],
   "source": [
    "print(\"helloWorld\")"
   ]
  }
 ],
 "metadata": {
  "kernelspec": {
   "display_name": "Python 3 (ipykernel)",
   "language": "python",
   "name": "python3"
  },
  "language_info": {
   "codemirror_mode": {
    "name": "ipython",
    "version": 3
   },
   "file_extension": ".py",
   "mimetype": "text/x-python",
   "name": "python",
   "nbconvert_exporter": "python",
   "pygments_lexer": "ipython3",
   "version": "3.13.5"
  }
 },
 "nbformat": 4,
 "nbformat_minor": 5
}
